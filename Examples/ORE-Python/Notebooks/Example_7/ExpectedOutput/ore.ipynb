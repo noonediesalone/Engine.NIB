{
 "cells": [
  {
   "cell_type": "markdown",
   "metadata": {
    "extensions": {
     "jupyter_dashboards": {
      "version": 1,
      "views": {
       "grid_default": {
        "col": 0,
        "height": 4,
        "hidden": true,
        "row": 20,
        "width": 4
       },
       "report_default": {
        "hidden": false
       }
      }
     }
    }
   },
   "source": [
    "\n",
    "# SIMM Calculation"
   ]
  },
  {
   "cell_type": "markdown",
   "metadata": {
    "extensions": {
     "jupyter_dashboards": {
      "version": 1,
      "views": {
       "grid_default": {
        "col": 4,
        "height": 4,
        "hidden": true,
        "row": 26,
        "width": 4
       },
       "report_default": {
        "hidden": false
       }
      }
     }
    }
   },
   "source": [
    "This dashboard demonstrates the capacity of ORE to trigger SIMM calculation from Python commands."
   ]
  },
  {
   "cell_type": "markdown",
   "metadata": {
    "extensions": {
     "jupyter_dashboards": {
      "version": 1,
      "views": {
       "grid_default": {
        "col": 0,
        "height": 2,
        "hidden": false,
        "row": 0,
        "width": 12
       },
       "report_default": {
        "hidden": false
       }
      }
     }
    }
   },
   "source": [
    "## Launch ORE"
   ]
  },
  {
   "cell_type": "markdown",
   "metadata": {
    "extensions": {
     "jupyter_dashboards": {
      "version": 1,
      "views": {
       "grid_default": {
        "col": 0,
        "height": 4,
        "hidden": true,
        "row": 12,
        "width": 12
       },
       "report_default": {
        "hidden": false
       }
      }
     }
    },
    "tags": []
   },
   "source": [
    "Kick off a process in ORE, loading all inputs from Input/ore.xml and the files referenced therein. \n",
    "This is equivalent to using the ORE command line application."
   ]
  },
  {
   "cell_type": "code",
   "execution_count": 1,
   "metadata": {
    "execution": {
     "iopub.execute_input": "2024-06-26T02:49:41.685065Z",
     "iopub.status.busy": "2024-06-26T02:49:41.685065Z",
     "iopub.status.idle": "2024-06-26T02:49:42.564004Z",
     "shell.execute_reply": "2024-06-26T02:49:42.564004Z"
    },
    "extensions": {
     "jupyter_dashboards": {
      "version": 1,
      "views": {
       "grid_default": {
        "hidden": true
       },
       "report_default": {
        "hidden": true
       }
      }
     }
    },
    "scrolled": true
   },
   "outputs": [],
   "source": [
    "from ORE import *\n",
    "import sys, time, math\n",
    "sys.path.append('..')\n",
    "import utilities\n",
    "\n",
    "#!{sys.executable} -m pip install open-source-risk-engine==1.8.11\n",
    "\n",
    "params = Parameters()\n",
    "params.fromFile(\"Input/ore_SIMM2.4_1D.xml\")\n",
    "\n",
    "ore = OREApp(params)\n"
   ]
  },
  {
   "cell_type": "code",
   "execution_count": 2,
   "metadata": {
    "execution": {
     "iopub.execute_input": "2024-06-26T02:49:42.566127Z",
     "iopub.status.busy": "2024-06-26T02:49:42.566127Z",
     "iopub.status.idle": "2024-06-26T02:49:42.625315Z",
     "shell.execute_reply": "2024-06-26T02:49:42.625315Z"
    }
   },
   "outputs": [
    {
     "name": "stdout",
     "output_type": "stream",
     "text": [
      "Run time: 0.01 sec\n",
      "Errors: 0\n"
     ]
    }
   ],
   "source": [
    "ore.run()\n",
    "\n",
    "utilities.checkErrorsAndRunTime(ore)"
   ]
  },
  {
   "cell_type": "markdown",
   "metadata": {},
   "source": [
    "There is also the possiblity to parametrise the SIMM calculation direclty in Python"
   ]
  },
  {
   "cell_type": "code",
   "execution_count": 3,
   "metadata": {
    "execution": {
     "iopub.execute_input": "2024-06-26T02:49:42.658107Z",
     "iopub.status.busy": "2024-06-26T02:49:42.658107Z",
     "iopub.status.idle": "2024-06-26T02:49:42.666228Z",
     "shell.execute_reply": "2024-06-26T02:49:42.666228Z"
    }
   },
   "outputs": [],
   "source": [
    "# Inspecting the inputs data\n",
    "inputs = ore.getInputs()"
   ]
  },
  {
   "cell_type": "code",
   "execution_count": 4,
   "metadata": {
    "execution": {
     "iopub.execute_input": "2024-06-26T02:49:42.668353Z",
     "iopub.status.busy": "2024-06-26T02:49:42.668353Z",
     "iopub.status.idle": "2024-06-26T02:49:42.702228Z",
     "shell.execute_reply": "2024-06-26T02:49:42.702228Z"
    }
   },
   "outputs": [
    {
     "name": "stdout",
     "output_type": "stream",
     "text": [
      "Run time: 0.01 sec\n",
      "Errors: 0\n"
     ]
    }
   ],
   "source": [
    "crifData = \"TradeID,PortfolioID,ProductClass,RiskType,Qualifier,Bucket,Label1,Label2,AmountCurrency,Amount,collect_regulations,post_regulations \\\n",
    "            IR_Bermudan,CRIF_20191230,RatesFX,Risk_IRCurve,USD,1,10y,Libor3m,USD,-1991.02,ESA,USPR,SEC,CFTC \\\n",
    "            IR_Bermudan,CRIF_20191230,RatesFX,Risk_IRCurve,USD,1,10y,OIS,USD,-304.84,ESA,USPR,SEC,CFTC \\\n",
    "            IR_Bermudan,CRIF_20191230,RatesFX,Risk_IRCurve,USD,1,15y,Libor3m,USD,-611.3,ESA,USPR,SEC,CFTC \\\n",
    "            IR_Bermudan,CRIF_20191230,RatesFX,Risk_IRCurve,USD,1,15y,OIS,USD,-510.15,ESA,USPR,SEC,CFTC \\\n",
    "            IR_Bermudan,CRIF_20191230,RatesFX,Risk_IRCurve,USD,1,1y,Libor3m,USD,-0.09,ESA,USPR,SEC,CFTC \\\n",
    "            IR_Bermudan,CRIF_20191230,RatesFX,Risk_IRCurve,USD,1,1y,OIS,USD,-0.38,ESA,USPR,SEC,CFTC \\\n",
    "            IR_Bermudan,CRIF_20191230,RatesFX,Risk_IRCurve,USD,1,20y,Libor3m,USD,-5926.95,ESA,USPR,SEC,CFTC \\\n",
    "            IR_Bermudan,CRIF_20191230,RatesFX,Risk_IRCurve,USD,1,20y,OIS,USD,-660.82,ESA,USPR,SEC,CFTC \\\n",
    "            IR_Bermudan,CRIF_20191230,RatesFX,Risk_IRCurve,USD,1,2w,Libor3m,USD,11.18,ESA,USPR,SEC,CFTC \\\n",
    "            IR_Bermudan,CRIF_20191230,RatesFX,Risk_IRCurve,USD,1,2w,OIS,USD,-0.93,ESA,USPR,SEC,CFTC \\\n",
    "            IR_Bermudan,CRIF_20191230,RatesFX,Risk_IRCurve,USD,1,2y,Libor3m,USD,-0.23,ESA,USPR,SEC,CFTC \\\n",
    "            IR_Bermudan,CRIF_20191230,RatesFX,Risk_IRCurve,USD,1,2y,OIS,USD,-2.93,ESA,USPR,SEC,CFTC \\\n",
    "            IR_Bermudan,CRIF_20191230,RatesFX,Risk_IRCurve,USD,1,30y,Libor3m,USD,-1894.5,ESA,USPR,SEC,CFTC \\\n",
    "            IR_Bermudan,CRIF_20191230,RatesFX,Risk_IRCurve,USD,1,30y,OIS,USD,-62.5,ESA,USPR,SEC,CFTC \\\n",
    "            IR_Bermudan,CRIF_20191230,RatesFX,Risk_IRCurve,USD,1,3m,Libor3m,USD,0.05,ESA,USPR,SEC,CFTC \\\n",
    "            IR_Bermudan,CRIF_20191230,RatesFX,Risk_IRCurve,USD,1,3m,OIS,USD,-3.28,ESA,USPR,SEC,CFTC \\\n",
    "            IR_Bermudan,CRIF_20191230,RatesFX,Risk_IRCurve,USD,1,3y,Libor3m,USD,-1.05,ESA,USPR,SEC,CFTC \\\n",
    "            IR_Bermudan,CRIF_20191230,RatesFX,Risk_IRCurve,USD,1,3y,OIS,USD,-6.63,ESA,USPR,SEC,CFTC \\\n",
    "            IR_Bermudan,CRIF_20191230,RatesFX,Risk_IRCurve,USD,1,5y,Libor3m,USD,-1431.81,ESA,USPR,SEC,CFTC \\\n",
    "            IR_Bermudan,CRIF_20191230,RatesFX,Risk_IRCurve,USD,1,5y,OIS,USD,-71.68,ESA,USPR,SEC,CFTC \\\n",
    "            IR_Bermudan,CRIF_20191230,RatesFX,Risk_IRCurve,USD,1,6m,Libor3m,USD,-0.03,ESA,USPR,SEC,CFTC \\\n",
    "            IR_Bermudan,CRIF_20191230,RatesFX,Risk_IRCurve,USD,1,6m,OIS,USD,2.01,ESA,USPR,SEC,CFTC \\\n",
    "            IR_Bermudan,CRIF_20191230,RatesFX,Risk_IRVol,USD,,10y,,USD,498253.14,ESA,USPR,SEC,CFTC \\\n",
    "            IR_Bermudan,CRIF_20191230,RatesFX,Risk_IRVol,USD,,15y,,USD,163454.34,ESA,USPR,SEC,CFTC \\\n",
    "            IR_Bermudan,CRIF_20191230,RatesFX,Risk_IRVol,USD,,3y,,USD,2813.27,ESA,USPR,SEC,CFTC \\\n",
    "            IR_Bermudan,CRIF_20191230,RatesFX,Risk_IRVol,USD,,5y,,USD,264121.38,ESA,USPR,SEC,CFTC \\\n",
    "            IR_Bermudan,CRIF_20191230,RatesFX,Risk_FX,USD,,,,USD,13186.84,ESA,USPR,SEC,CFTC \"\n",
    "\n",
    "inputs.setCrifFromBuffer(crifData)\n",
    "inputs.setSimmVersion(\"2.13\")\n",
    "inputs.setSimmCalculationCurrencyCall(\"EUR\")\n",
    "inputs.setSimmCalculationCurrencyPost(\"EUR\")\n",
    "inputs.setSimmResultCurrency(\"EUR\")\n",
    "inputs.setSimmReportingCurrency(\"EUR\")\n",
    "inputs.setMporDays(1000)\n",
    "\n",
    "# Inserting the Sensitivity analytics\n",
    "inputs.insertAnalytic(\"SIMM\")\n",
    "\n",
    "ore.run()\n",
    "\n",
    "utilities.checkErrorsAndRunTime(ore)"
   ]
  },
  {
   "cell_type": "markdown",
   "metadata": {
    "extensions": {
     "jupyter_dashboards": {
      "version": 1,
      "views": {
       "grid_default": {
        "col": 0,
        "height": 2,
        "hidden": false,
        "row": 7,
        "width": 12
       },
       "report_default": {
        "hidden": false
       }
      }
     }
    }
   },
   "source": [
    "## Query Results"
   ]
  },
  {
   "cell_type": "markdown",
   "metadata": {
    "extensions": {
     "jupyter_dashboards": {
      "version": 1,
      "views": {
       "grid_default": {
        "col": 0,
        "height": 4,
        "hidden": true,
        "row": 31,
        "width": 12
       },
       "report_default": {
        "hidden": false
       }
      }
     }
    },
    "tags": []
   },
   "source": [
    "The results of the ORE run above have been written to the Output folder.\n",
    "Moreover all results are stored in memory and can be queried as follows.\n",
    "\n",
    "First, double-check which analytics we have requested, see Input/ore.xml:"
   ]
  },
  {
   "cell_type": "code",
   "execution_count": 5,
   "metadata": {
    "execution": {
     "iopub.execute_input": "2024-06-26T02:49:42.702228Z",
     "iopub.status.busy": "2024-06-26T02:49:42.702228Z",
     "iopub.status.idle": "2024-06-26T02:49:42.717870Z",
     "shell.execute_reply": "2024-06-26T02:49:42.717870Z"
    },
    "extensions": {
     "jupyter_dashboards": {
      "version": 1,
      "views": {
       "grid_default": {
        "hidden": true
       },
       "report_default": {
        "hidden": true
       }
      }
     }
    },
    "tags": []
   },
   "outputs": [
    {
     "name": "stdout",
     "output_type": "stream",
     "text": [
      "Run time: 0.02 sec\n",
      "Errors: 0\n"
     ]
    }
   ],
   "source": [
    "utilities.checkErrorsAndRunTime(ore)"
   ]
  },
  {
   "cell_type": "markdown",
   "metadata": {
    "extensions": {
     "jupyter_dashboards": {
      "version": 1,
      "views": {
       "grid_default": {
        "col": 0,
        "height": 4,
        "hidden": true,
        "row": 31,
        "width": 12
       },
       "report_default": {
        "hidden": false
       }
      }
     }
    }
   },
   "source": [
    "Now list all reports that have been generated:"
   ]
  },
  {
   "cell_type": "code",
   "execution_count": 6,
   "metadata": {
    "execution": {
     "iopub.execute_input": "2024-06-26T02:49:42.717870Z",
     "iopub.status.busy": "2024-06-26T02:49:42.717870Z",
     "iopub.status.idle": "2024-06-26T02:49:42.749094Z",
     "shell.execute_reply": "2024-06-26T02:49:42.749094Z"
    },
    "extensions": {
     "jupyter_dashboards": {
      "version": 1,
      "views": {
       "grid_default": {
        "col": 0,
        "height": 7,
        "hidden": false,
        "row": 9,
        "width": 12
       },
       "report_default": {
        "hidden": true
       }
      }
     }
    }
   },
   "outputs": [
    {
     "name": "stdout",
     "output_type": "stream",
     "text": [
      "\n",
      "- dividends\n",
      "- fixings\n",
      "- marketdata\n"
     ]
    }
   ],
   "source": [
    "utilities.writeList(ore.getReportNames())"
   ]
  },
  {
   "cell_type": "code",
   "execution_count": 7,
   "metadata": {
    "execution": {
     "iopub.execute_input": "2024-06-26T02:49:42.749094Z",
     "iopub.status.busy": "2024-06-26T02:49:42.749094Z",
     "iopub.status.idle": "2024-06-26T02:49:42.918512Z",
     "shell.execute_reply": "2024-06-26T02:49:42.918512Z"
    }
   },
   "outputs": [
    {
     "data": {
      "application/vnd.jupyter.widget-view+json": {
       "model_id": "e7754acf4b914ca9a08f9d74cb3c2a0c",
       "version_major": 2,
       "version_minor": 0
      },
      "text/plain": [
       "interactive(children=(Dropdown(description='reportName', options=('dividends', 'fixings', 'marketdata'), value…"
      ]
     },
     "metadata": {},
     "output_type": "display_data"
    },
    {
     "data": {
      "text/plain": [
       "<function __main__.analyseAndDisplayReport(reportName)>"
      ]
     },
     "execution_count": 7,
     "metadata": {},
     "output_type": "execute_result"
    }
   ],
   "source": [
    "from ipywidgets import interact\n",
    "\n",
    "nbLinesToDisplay = 10\n",
    "nbColumnsToDisplay = 10\n",
    "\n",
    "def analyseAndDisplayReport(reportName): \n",
    "    report = ore.getReport(reportName)\n",
    "    utilities.checkReportStructure(reportName, report)\n",
    "    display(utilities.format_report(report).iloc[:nbLinesToDisplay, : nbColumnsToDisplay])\n",
    "interact(analyseAndDisplayReport, reportName=list(ore.getReportNames()))"
   ]
  }
 ],
 "metadata": {
  "anaconda-cloud": {},
  "extensions": {
   "jupyter_dashboards": {
    "activeView": "report_default",
    "version": 1,
    "views": {
     "grid_default": {
      "cellMargin": 10,
      "defaultCellHeight": 20,
      "maxColumns": 12,
      "name": "grid",
      "type": "grid"
     },
     "report_default": {
      "name": "report",
      "type": "report"
     }
    }
   }
  },
  "kernelspec": {
   "display_name": "Python 3 (ipykernel)",
   "language": "python",
   "name": "python3"
  },
  "language_info": {
   "codemirror_mode": {
    "name": "ipython",
    "version": 3
   },
   "file_extension": ".py",
   "mimetype": "text/x-python",
   "name": "python",
   "nbconvert_exporter": "python",
   "pygments_lexer": "ipython3",
   "version": "3.8.0"
  },
  "widgets": {
   "application/vnd.jupyter.widget-state+json": {
    "state": {
     "424f6c3055ea4b9ca7f9ebe6b3d2f452": {
      "model_module": "@jupyter-widgets/controls",
      "model_module_version": "2.0.0",
      "model_name": "DropdownModel",
      "state": {
       "_dom_classes": [],
       "_model_module": "@jupyter-widgets/controls",
       "_model_module_version": "2.0.0",
       "_model_name": "DropdownModel",
       "_options_labels": [
        "dividends",
        "fixings",
        "marketdata"
       ],
       "_view_count": null,
       "_view_module": "@jupyter-widgets/controls",
       "_view_module_version": "2.0.0",
       "_view_name": "DropdownView",
       "description": "reportName",
       "description_allow_html": false,
       "disabled": false,
       "index": 0,
       "layout": "IPY_MODEL_a563478a37c3458bb72e68d585826abd",
       "style": "IPY_MODEL_429b988e15a44a89a8a09a0d76ecae86",
       "tabbable": null,
       "tooltip": null
      }
     },
     "429b988e15a44a89a8a09a0d76ecae86": {
      "model_module": "@jupyter-widgets/controls",
      "model_module_version": "2.0.0",
      "model_name": "DescriptionStyleModel",
      "state": {
       "_model_module": "@jupyter-widgets/controls",
       "_model_module_version": "2.0.0",
       "_model_name": "DescriptionStyleModel",
       "_view_count": null,
       "_view_module": "@jupyter-widgets/base",
       "_view_module_version": "2.0.0",
       "_view_name": "StyleView",
       "description_width": ""
      }
     },
     "50ebb555d05b4a23ae93df2798f113fe": {
      "model_module": "@jupyter-widgets/base",
      "model_module_version": "2.0.0",
      "model_name": "LayoutModel",
      "state": {
       "_model_module": "@jupyter-widgets/base",
       "_model_module_version": "2.0.0",
       "_model_name": "LayoutModel",
       "_view_count": null,
       "_view_module": "@jupyter-widgets/base",
       "_view_module_version": "2.0.0",
       "_view_name": "LayoutView",
       "align_content": null,
       "align_items": null,
       "align_self": null,
       "border_bottom": null,
       "border_left": null,
       "border_right": null,
       "border_top": null,
       "bottom": null,
       "display": null,
       "flex": null,
       "flex_flow": null,
       "grid_area": null,
       "grid_auto_columns": null,
       "grid_auto_flow": null,
       "grid_auto_rows": null,
       "grid_column": null,
       "grid_gap": null,
       "grid_row": null,
       "grid_template_areas": null,
       "grid_template_columns": null,
       "grid_template_rows": null,
       "height": null,
       "justify_content": null,
       "justify_items": null,
       "left": null,
       "margin": null,
       "max_height": null,
       "max_width": null,
       "min_height": null,
       "min_width": null,
       "object_fit": null,
       "object_position": null,
       "order": null,
       "overflow": null,
       "padding": null,
       "right": null,
       "top": null,
       "visibility": null,
       "width": null
      }
     },
     "8adf8fa60f514f70958dc509dc760bc4": {
      "model_module": "@jupyter-widgets/base",
      "model_module_version": "2.0.0",
      "model_name": "LayoutModel",
      "state": {
       "_model_module": "@jupyter-widgets/base",
       "_model_module_version": "2.0.0",
       "_model_name": "LayoutModel",
       "_view_count": null,
       "_view_module": "@jupyter-widgets/base",
       "_view_module_version": "2.0.0",
       "_view_name": "LayoutView",
       "align_content": null,
       "align_items": null,
       "align_self": null,
       "border_bottom": null,
       "border_left": null,
       "border_right": null,
       "border_top": null,
       "bottom": null,
       "display": null,
       "flex": null,
       "flex_flow": null,
       "grid_area": null,
       "grid_auto_columns": null,
       "grid_auto_flow": null,
       "grid_auto_rows": null,
       "grid_column": null,
       "grid_gap": null,
       "grid_row": null,
       "grid_template_areas": null,
       "grid_template_columns": null,
       "grid_template_rows": null,
       "height": null,
       "justify_content": null,
       "justify_items": null,
       "left": null,
       "margin": null,
       "max_height": null,
       "max_width": null,
       "min_height": null,
       "min_width": null,
       "object_fit": null,
       "object_position": null,
       "order": null,
       "overflow": null,
       "padding": null,
       "right": null,
       "top": null,
       "visibility": null,
       "width": null
      }
     },
     "a563478a37c3458bb72e68d585826abd": {
      "model_module": "@jupyter-widgets/base",
      "model_module_version": "2.0.0",
      "model_name": "LayoutModel",
      "state": {
       "_model_module": "@jupyter-widgets/base",
       "_model_module_version": "2.0.0",
       "_model_name": "LayoutModel",
       "_view_count": null,
       "_view_module": "@jupyter-widgets/base",
       "_view_module_version": "2.0.0",
       "_view_name": "LayoutView",
       "align_content": null,
       "align_items": null,
       "align_self": null,
       "border_bottom": null,
       "border_left": null,
       "border_right": null,
       "border_top": null,
       "bottom": null,
       "display": null,
       "flex": null,
       "flex_flow": null,
       "grid_area": null,
       "grid_auto_columns": null,
       "grid_auto_flow": null,
       "grid_auto_rows": null,
       "grid_column": null,
       "grid_gap": null,
       "grid_row": null,
       "grid_template_areas": null,
       "grid_template_columns": null,
       "grid_template_rows": null,
       "height": null,
       "justify_content": null,
       "justify_items": null,
       "left": null,
       "margin": null,
       "max_height": null,
       "max_width": null,
       "min_height": null,
       "min_width": null,
       "object_fit": null,
       "object_position": null,
       "order": null,
       "overflow": null,
       "padding": null,
       "right": null,
       "top": null,
       "visibility": null,
       "width": null
      }
     },
     "d26448f399a04b8bacd2ff2cdefc78b8": {
      "model_module": "@jupyter-widgets/output",
      "model_module_version": "1.0.0",
      "model_name": "OutputModel",
      "state": {
       "_dom_classes": [],
       "_model_module": "@jupyter-widgets/output",
       "_model_module_version": "1.0.0",
       "_model_name": "OutputModel",
       "_view_count": null,
       "_view_module": "@jupyter-widgets/output",
       "_view_module_version": "1.0.0",
       "_view_name": "OutputView",
       "layout": "IPY_MODEL_8adf8fa60f514f70958dc509dc760bc4",
       "msg_id": "",
       "outputs": [
        {
         "name": "stdout",
         "output_type": "stream",
         "text": "Report:  dividends\ncolumns: 4\nrows:    0\n\nColumn Header               Type     TypeString\n0      dividendExDate       3        Date      \n1      equityId             2        string    \n2      dividendRate         1        Real      \n3      dividendPaymentDate  3        Date      \n"
        },
        {
         "data": {
          "text/html": "<div>\n<style scoped>\n    .dataframe tbody tr th:only-of-type {\n        vertical-align: middle;\n    }\n\n    .dataframe tbody tr th {\n        vertical-align: top;\n    }\n\n    .dataframe thead th {\n        text-align: right;\n    }\n</style>\n<table border=\"1\" class=\"dataframe\">\n  <thead>\n    <tr style=\"text-align: right;\">\n      <th></th>\n      <th>dividendExDate</th>\n      <th>equityId</th>\n      <th>dividendRate</th>\n      <th>dividendPaymentDate</th>\n    </tr>\n  </thead>\n  <tbody>\n  </tbody>\n</table>\n</div>",
          "text/plain": "Empty DataFrame\nColumns: [dividendExDate, equityId, dividendRate, dividendPaymentDate]\nIndex: []"
         },
         "metadata": {},
         "output_type": "display_data"
        }
       ],
       "tabbable": null,
       "tooltip": null
      }
     },
     "e7754acf4b914ca9a08f9d74cb3c2a0c": {
      "model_module": "@jupyter-widgets/controls",
      "model_module_version": "2.0.0",
      "model_name": "VBoxModel",
      "state": {
       "_dom_classes": [
        "widget-interact"
       ],
       "_model_module": "@jupyter-widgets/controls",
       "_model_module_version": "2.0.0",
       "_model_name": "VBoxModel",
       "_view_count": null,
       "_view_module": "@jupyter-widgets/controls",
       "_view_module_version": "2.0.0",
       "_view_name": "VBoxView",
       "box_style": "",
       "children": [
        "IPY_MODEL_424f6c3055ea4b9ca7f9ebe6b3d2f452",
        "IPY_MODEL_d26448f399a04b8bacd2ff2cdefc78b8"
       ],
       "layout": "IPY_MODEL_50ebb555d05b4a23ae93df2798f113fe",
       "tabbable": null,
       "tooltip": null
      }
     }
    },
    "version_major": 2,
    "version_minor": 0
   }
  }
 },
 "nbformat": 4,
 "nbformat_minor": 4
}
