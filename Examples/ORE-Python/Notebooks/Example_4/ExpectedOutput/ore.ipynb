{
 "cells": [
  {
   "cell_type": "markdown",
   "id": "50e0d687-3ef9-4c01-b8b2-e47d520d4bfd",
   "metadata": {},
   "source": [
    "# 1 Hull-White Multifactor Model Example"
   ]
  },
  {
   "cell_type": "markdown",
   "id": "23fd2de4-2d5e-4018-8dc9-603365e9341d",
   "metadata": {},
   "source": [
    "## 1.1 Hull White Model\n",
    "\n",
    "The model state $x(t)$ is $n$ dimensional and driven by $m \\leq n$ Brownian motions:\n",
    "\n",
    "\\begin{eqnarray}\n",
    "  \\label{sde_x}\n",
    "  dx(t) & = & (y(t)  {\\bf 1} - \\kappa x(t)) dt + \\sigma_x(t)^T dW(t) \\\\\n",
    "  f(t,T) & = & f(0,T) + m(t,T)^T \\left( x(t) + y(t) \\int_t^T m(t,u) du \\right) \\\\\n",
    "  \\label{representation_r}\n",
    "  r(t) & = & f(0,t) + \\sum_{i=1}^n x_i(t)\n",
    "\\end{eqnarray}\n",
    "\n",
    "with a $n \\times n$ diagonal mean reversion matrix\n",
    "\n",
    "\\begin{equation}\n",
    "\\kappa = \\text{diag}(\\kappa_1,\\ldots,\\kappa_n)\n",
    "\\end{equation}\n",
    "\n",
    "and\n",
    "\n",
    "\\begin{eqnarray}\n",
    "  H(t)   &=& \\text{diag}(h_1(t), \\ldots, h_n(t)) \\\\\n",
    "  h_i(t) &=& e^{-\\int_0^t \\kappa_i(s) ds}\n",
    "\\end{eqnarray}\n",
    "\n",
    "Furthermore, the volatility $\\sigma_x$ is given by the $m \\times n$ matrix valued function\n",
    "\n",
    "\\begin{equation}\\label{sigma_g}\n",
    "\\sigma_x(t) = g(t)H(t)\n",
    "\\end{equation}\n",
    "\n",
    "and\n",
    "\n",
    "\\begin{eqnarray}\n",
    "  m(t,T) & := & H(T)H(t)^{-1}{\\bf 1} \\\\\n",
    "  \\label{representation_x}\n",
    "  x(t) & := & H(t) \\int_0^t g(s)^Tg(s) \\int_s^t h(u) du ds + H(t) z(t) \\\\\n",
    "  \\label{representation_y}\n",
    "  y(t) & := & H(t) \\left( \\int_0^t g(s)^T g(s) ds \\right) H(t) \\\\\n",
    "  z(t) & := & \\int_0^t g(s)^T dW(s)\n",
    "\\end{eqnarray}\n",
    "\n",
    "The model is fully specified by the mean reversion $\\kappa(t)$ and volatility $\\sigma_x(t)$, since from that we can\n",
    "compute $y(t)$ and $M(t,T)$ as\n",
    "\n",
    "\\begin{eqnarray}\n",
    "  m(t,T) &=& \\left( e^{-\\int_t^T \\kappa_1(s) ds}, e^{-\\int_t^T \\kappa_2(s) ds}, \\ldots, e^{-\\int_t^T \\kappa_n(s) ds} \\right)^T \\\\\n",
    "  M(t,T) &=& \\text{diag}(m_1, \\ldots, m_n)\n",
    "\\end{eqnarray}\n",
    "\n",
    "and\n",
    "\n",
    "\\begin{equation}\\label{representation_y_2}\n",
    "y(t) = \\int_0^t M(s,t) \\sigma_x(s)^T \\sigma_x(s) M(s,t) ds\n",
    "\\end{equation}\n",
    "\n",
    "since $g(s) =\\sigma_x(s)H^{-1}(s)$.\n"
   ]
  },
  {
   "cell_type": "markdown",
   "id": "c90110cd-81de-4f7f-9c1f-aee4834a755b",
   "metadata": {},
   "source": [
    "## 1.2 PCA on historical Interest Rate Movements\n",
    "\n",
    "We assume a tenor structure $\\tau_1, \\ldots, \\tau_{N_\\tau}$ to discretize a single rate curve, i.e. we choose one currency and one\n",
    "representative curve in that currency. We have continuously compounded forward yields\n",
    "\n",
    "\\begin{equation}\\label{cont_comp_forward}\n",
    "f_j = \\frac{-\\log \\left( \\frac{P(0, \\tau_j)}{P(0, \\tau_{j-1})} \\right)}{ \\tau_j - \\tau_{j-1} }\n",
    "\\end{equation}\n",
    "\n",
    "for $j=1,\\ldots,N_\\tau$, where we set $\\tau_0 := 0$. Let $\\Sigma_r$ denote an estimate of the covariance matrix of\n",
    "absolute daily returns $r_j(t) := f_j(t) - f_j(t-1)$ sourced from time series data. We assume that the mean of these\n",
    "returns is approximately zero. We furthermore assume that $\\Sigma_r$ is normalized to {\\em annual volatilities}.\n",
    "\n",
    "Spectral decomposition (PCA) yields a orthogonal coordinate transform $\\Gamma$\n",
    "\n",
    "\\begin{equation}\n",
    "\\Sigma_r = \\Gamma \\Lambda \\Gamma^T\n",
    "\\end{equation}\n",
    "\n",
    "with $\\Lambda = \\text{diag}(\\lambda_1, \\ldots, \\lambda_{N_\\tau})$ a diagonal matrix containing the eigenvalues of\n",
    "$\\Sigma_r$ and the columns of $\\Gamma$ being the eigenvectors of $\\Sigma_r$ with norm 1. We can assume that the columns\n",
    "of $\\Gamma$ are sorted in a way that $\\lambda_1 \\geq \\lambda_2 \\geq \\ldots \\geq \\lambda_{N_\\tau}$.\n",
    "\n",
    "$\\Gamma$ defines a linear coordinate transform\n",
    "\n",
    "\\begin{eqnarray}\\label{coordinate_transform}\n",
    "r^* = \\Gamma^T r \\\\\n",
    "r = \\Gamma r^*\n",
    "\\end{eqnarray}\n",
    "\n",
    "translating the original returns $r$ to (independent) returns $r^*$ in terms of the principal component coordinates and\n",
    "vice versa. The $j$th eigenvector $\\gamma_j$ of $\\Gamma$ is also called the jth vector of {\\em loadings} and translates\n",
    "a return $(0,\\ldots,0,1,0,\\ldots,0)^T$ in new coordinates with $1$ at the $j$th component to the corresponding return in\n",
    "original coordinates\n",
    "\n",
    "\\begin{eqnarray}\n",
    "  r = \\gamma_j = \\Gamma \\begin{pmatrix}\n",
    "    0 \\\\\n",
    "    \\ldots \\\\\n",
    "    0 \\\\\n",
    "    1 \\\\\n",
    "    0 \\\\\n",
    "    \\ldots \\\\\n",
    "    0\n",
    "    \\end{pmatrix}\n",
    "\\end{eqnarray}\n",
    "\n",
    "We now pick a number $m \\leq N_\\tau$ and only keep the components $1,\\ldots,m$ of $\\Gamma$.\n",
    "\n"
   ]
  },
  {
   "cell_type": "markdown",
   "id": "1b4fc38d-3c27-419c-a15c-d1bc23cce1cf",
   "metadata": {},
   "source": [
    "## 1.3 Statistical Interest Rate Model\n",
    "\n",
    "We follow Andersen, L., and Piterbarg, V. (2010): Interest Rate Modeling, Volume I-III, chapter 12.1.5 \"Multi-Factor\n",
    "Statistical Gaussian Model\" to calibrate the diffusion and reversion matrices to the prescribed components and\n",
    "volatilities. We do not go into much detail here and refer the interested reader to the given reference.\n",
    "\n",
    "In the interest rate model we aim to develop in this section the $j$th principal component is driven by $z_j$ with\n",
    "\n",
    "\\begin{equation}\n",
    "dz_j = \\sigma_j(t) dW_j(t)\n",
    "\\end{equation}\n",
    "\n",
    "with $j=1,\\ldots,m$. If we wish to derive $\\sigma_j(t)$ from historical time series data, we set\n",
    "\n",
    "\\begin{equation}\\label{hist_factor_vols}\n",
    "\\sigma_j(t) \\equiv \\sqrt{\\lambda_j}\n",
    "\\end{equation}\n",
    "\n",
    "independent of $t$. Alternatively, we can leave $\\sigma_j(t)$ unspecified at this point and calibrate to market option\n",
    "quotes after having specified the reversion parameters of the model. To connect the loadings $\\gamma_j$ with the mean\n",
    "reversion parameters of the model we consider the model specified by Andersen/Piterbarg formula (12.35)\n",
    "\n",
    "\\begin{equation}\n",
    "df(t, t+\\tau) = O(dt) + \\sum_{j=1}^m l_j(\\tau)dz_j(t)\n",
    "\\end{equation}\n",
    "\n",
    "with\n",
    "\n",
    "\\begin{equation}\\label{piterbarg_12_35}\n",
    "l_j(\\tau) = \\sum_{i=1}^{n_j} v_{j,i} e^{-\\kappa_{j,i} \\tau}\n",
    "\\end{equation}\n",
    "\n",
    "First we have to integrate over $\\tau$ to translate the loadings $l_j(\\tau)$ for the instantaneous\n",
    "forward rate at $t+\\tau$ as seen from $t$ to loadings $l_j'(k)$ of the continuously compounded forward yield $f_j$ in\n",
    "\\ref{cont_comp_forward}. This means we have to compute\n",
    "\n",
    "\\begin{equation}\n",
    "  l_j'(k) = \\frac{1}{\\tau_k - \\tau_{k-1}} \\int_{\\tau_{k-1}}^{\\tau_k} l_j(\\tau) d \\tau = \\sum_{i=1}^{n_j} \\frac{v_{j,i} }{\\tau_k - \\tau_{k-1}} \\int_{\\tau_{k-1}}^{\\tau_k} e^{-\\kappa_{j,i} \\tau} d \\tau\n",
    "\\end{equation}\n",
    "\n",
    "for $k=1,\\ldots,N_{\\tau}$. This is\n",
    "\n",
    "\\begin{equation}\n",
    "  l_j'(k) = \\sum_{i=1}^{n_j} v_{j,i} \\frac{e^{-\\kappa_{j,i} \\tau_{k-1}} - e^{-\\kappa_{j,i} \\tau_k}}{\\kappa_{j,i}( \\tau_k - \\tau_{k-1} )}\n",
    "\\end{equation}\n",
    "\n",
    "The next step is to determine the parameters $v_{j,i}$ and $\\kappa_{j,i}$ such that the model implied loadings $l'_j(k)$\n",
    "match the loadings $\\gamma_j$ from the PCA as closely as possible:\n",
    "\n",
    "\\begin{equation}\n",
    "  l_j' \\approx \\gamma_j\n",
    "\\end{equation}\n",
    "\n",
    "Here, the parameter $n_j$ is the number of ``basis functions'' available to approximate $\\gamma_j$. We specify $n_j$ as\n",
    "a fixed external parameter, while $v_{j,i}$ and $\\kappa_{j,i}$ have to be determined in an numerical optimization\n",
    "procedure. Notice that the total number of state variables in the final model will be $n = \\sum_{j=1}^m n_j$ and the\n",
    "numerical optimization will be run over $2n$ free parameters, i.e. there is a trade off between the accuracy of the\n",
    "approximation of the PCA loadings and the number of state variables in the model. Also notice that the number of driving\n",
    "Brownian motions in the model will be $m$.\n"
   ]
  },
  {
   "cell_type": "markdown",
   "id": "de8186f9-6266-4c4f-ae15-379c21754b15",
   "metadata": {},
   "source": [
    "## 1.3 Statistical Interest Rate Model (continued)\n",
    "\n",
    "Andersen/Piterbarg, proposition 12.15 summarizes the model dynamics we arrive at. The short rate is given by\n",
    "\n",
    "\\begin{equation}\n",
    "r(t) = f(0,t) + (1,1,\\ldots,1) x(t)\n",
    "\\end{equation}\n",
    "\n",
    "where the driving vector $x(t)$ of size $n$ follows the dynamics\n",
    "\n",
    "\\begin{equation}\n",
    "dx(t) = (y(t) (1,1,\\ldots,1)^T - \\kappa x(t)) dt + \\sigma_x(t)^T dW(t)\n",
    "\\end{equation}\n",
    "\n",
    "with an m-dimensional vector $W(t)$ of independent Brownian motions, a diagonal $n \\times n$ mean reversion matrix\n",
    "$\\kappa$\n",
    "\n",
    "\\begin{equation}\n",
    "\\kappa = \\text{diag}( \\kappa_{1,1}, \\ldots, \\kappa_{1,n_1}, \\ldots, \\kappa_{m,1}, \\ldots, \\kappa_{m,n_m} )\n",
    "\\end{equation}\n",
    "\n",
    "containing the calibrated mean reversion parameters, a diagonal $n \\times n$ matrix\n",
    "$\\sigma$\n",
    "\n",
    "\\begin{equation}\n",
    "\\sigma = \\text{diag}( \\sigma_{1}, \\ldots, \\sigma_{1}, \\ldots, \\sigma_{m}, \\ldots, \\sigma_{m} )\n",
    "\\end{equation}\n",
    "\n",
    "containing the historical volatilities of the $m$ factors or unspecified values to be\n",
    "calibrated to market option quotes, a column vector $h$ of size $n$\n",
    "\n",
    "\\begin{equation}\n",
    "h(t) = ( e^{-\\kappa_{1,1}t}, \\ldots, e^{-\\kappa_{1,n_1}}, \\ldots, e^{-\\kappa_{m,1}}, \\ldots, e^{-\\kappa_{m,n_m}} )^T\n",
    "\\end{equation}\n",
    "\n",
    "The $m \\times n$ matrix $\\sigma_x$ is given by\n",
    "\n",
    "\\begin{equation}\n",
    "\\sigma_x(t) = v \\sigma(t)\n",
    "\\end{equation}\n",
    "\n",
    "where $v$ is a $m \\times n$ matrix containing the calibrated parameters in the following form\n",
    "\n",
    "\\begin{equation}\n",
    "  v = \\begin{pmatrix}\n",
    "       v_{1,1} & \\ldots & v_{1,n_1} & 0      & \\ldots & 0        & \\ldots & 0      & \\ldots & 0 \\\\\n",
    "       0      & \\ldots & 0        & v_{2,1} & \\ldots & v_{2,n_2} & \\ldots & \\vdots & \\vdots & \\vdots \\\\\n",
    "       \\vdots & \\ddots & \\vdots   & \\vdots & \\ddots & \\vdots   & \\ddots & 0      & \\vdots & 0 \\\\\n",
    "       0      & \\ldots & 0        & 0      & \\ldots & 0        & \\ldots & v_{m,1} & \\ldots & v_{m,n_m}\n",
    "       \\end{pmatrix}\n",
    "\\end{equation}\n",
    "\n",
    "The $n \\times n$ matrix $y$ is given by\n",
    "\n",
    "\\begin{equation}\n",
    "y(t) = H(t) \\left( \\int_0^t H(s)^{-1} \\sigma(s) v^T v \\sigma(s) H(s)^{-1} ds \\right) H(t)\n",
    "\\end{equation}\n",
    "\n",
    "where $H(t)$ is the diagonal $n \\times n$ matrix $\\text{diag}(h_1(t), \\ldots, h_n(t))$. This model is a special form of\n",
    "the model described above with the parameter $g$ set to\n",
    "\n",
    "\\begin{equation}\n",
    "g(t) = v \\sigma(t) H(t)^{-1}\n",
    "\\end{equation}"
   ]
  },
  {
   "cell_type": "markdown",
   "id": "d56ddd20-1773-4bc7-99fb-8acf4eaf8752",
   "metadata": {},
   "source": [
    "## 1.4 Toy Model: Prescribed Principal Components and Volatilities and calibrated model parameters\n",
    "\n",
    "We prescribe two artificial principal components for the movement of zero rates:\n",
    "\n",
    "- a parallel movement\n",
    "- a rotation around the 7y points\n",
    "\n",
    "with volatilities 0.0070 and 0.0030. It turns out that 2 basis functions are sufficient to get a decent fit, i.e. we have $n_1=n_2=2$ and $m=2$. In other words we have $2$ driving Brownian motions and $4$ states in total. The calibrated mean reversion matrix is\n",
    "\n",
    "\\begin{equation}\n",
    "  \\kappa = \\begin{pmatrix}\n",
    "  -0.000000048673 & 0 & 0 & 0 \\\\\n",
    "  0 & -0.24532070948 & 0 & 0 \\\\\n",
    "  0 & 0 & -0.056427887126 & 0 \\\\\n",
    "  0 & 0 & 0 & 0.510590372873\n",
    "  \\end{pmatrix}\n",
    "\\end{equation}\n",
    "\n",
    "and the calibrated diffusion matrix is\n",
    "\n",
    "\\begin{equation}\n",
    "  \\sigma_x = \\begin{pmatrix}\n",
    "  0.002474873734151 & 0 & 0 & 0 \\\\\n",
    "  0 & 0 & 0.000706612189017 & -0.00298902380928\n",
    "  \\end{pmatrix}\n",
    "\\end{equation}"
   ]
  },
  {
   "cell_type": "markdown",
   "id": "a0244dd4-1072-4470-a53d-62e5b94a4ff5",
   "metadata": {},
   "source": [
    "# 2 Rountrip test in ORE\n",
    "\n",
    "The example generates a single monte carlo path with 5000 daily steps and outputs the generated scenarios in\n",
    "scenariodump.csv.\n"
   ]
  },
  {
   "cell_type": "code",
   "execution_count": 1,
   "id": "44346cb5-6296-4d9e-bf10-aadadac21f9e",
   "metadata": {
    "execution": {
     "iopub.execute_input": "2024-06-24T22:26:56.432302Z",
     "iopub.status.busy": "2024-06-24T22:26:56.431303Z",
     "iopub.status.idle": "2024-06-24T22:26:58.087334Z",
     "shell.execute_reply": "2024-06-24T22:26:58.086335Z"
    }
   },
   "outputs": [],
   "source": [
    "from ORE import *\n",
    "import sys, time, math\n",
    "sys.path.append('..')\n",
    "import utilities\n",
    "import matplotlib.pyplot as plt\n",
    "import pandas as pd\n",
    "import numpy as np\n",
    "import csv"
   ]
  },
  {
   "cell_type": "code",
   "execution_count": 2,
   "id": "db09c41c-7221-4d2b-9298-5aee134c49e6",
   "metadata": {
    "execution": {
     "iopub.execute_input": "2024-06-24T22:26:58.092342Z",
     "iopub.status.busy": "2024-06-24T22:26:58.091304Z",
     "iopub.status.idle": "2024-06-24T22:26:58.103303Z",
     "shell.execute_reply": "2024-06-24T22:26:58.102304Z"
    }
   },
   "outputs": [],
   "source": [
    "params = Parameters()\n",
    "params.fromFile(\"Input/ore.xml\")\n",
    "ore = OREApp(params, False)"
   ]
  },
  {
   "cell_type": "code",
   "execution_count": 3,
   "id": "42ab8755-37ce-4066-95fb-1f136020aeb7",
   "metadata": {
    "execution": {
     "iopub.execute_input": "2024-06-24T22:26:58.108336Z",
     "iopub.status.busy": "2024-06-24T22:26:58.107334Z",
     "iopub.status.idle": "2024-06-24T22:27:00.544350Z",
     "shell.execute_reply": "2024-06-24T22:27:00.543377Z"
    }
   },
   "outputs": [
    {
     "name": "stdout",
     "output_type": "stream",
     "text": [
      "Completed with 1 errors/warnings\n",
      "{ \"category\": \"Error\", \"group\": \"Curve\", \"message\": \"No security spread or bond price to imply the spread is given. Will proceed assuming a zero spread.\", \"sub_fields\": [ { \"name\": \"curveId\", \"value\": \"Security/SECURITY_2\" }, { \"name\": \"exceptionType\", \"value\": \"Missing security spread\" } ] }\n",
      "Run time: 2.3759 sec\n"
     ]
    }
   ],
   "source": [
    "ore.run()\n",
    "errors = ore.getErrors()\n",
    "print (\"Completed with\", len(errors), \"errors/warnings\")\n",
    "if len(errors) > 0:\n",
    "    for e in errors:\n",
    "       print(e)\n",
    "print (\"Run time: %.4f sec\" % ore.getRunTime())        "
   ]
  },
  {
   "cell_type": "markdown",
   "id": "388b4ae4-d58c-4277-affb-b5996587f3ad",
   "metadata": {},
   "source": [
    "We now perform a pricinpal component analysis on the generated data and compare the result to the calibrated input princial component functions."
   ]
  },
  {
   "cell_type": "code",
   "execution_count": 4,
   "id": "c4ff71ba-adca-4ed5-8784-2cb153b199a4",
   "metadata": {
    "execution": {
     "iopub.execute_input": "2024-06-24T22:27:00.549386Z",
     "iopub.status.busy": "2024-06-24T22:27:00.549386Z",
     "iopub.status.idle": "2024-06-24T22:27:00.608348Z",
     "shell.execute_reply": "2024-06-24T22:27:00.607378Z"
    }
   },
   "outputs": [],
   "source": [
    "# these must match the yield curve tenors in simulation.xml\n",
    "curve_times = [1, 2, 3, 5, 10, 15, 20, 30]\n",
    "\n",
    "# load the scenariodump.csv into a dataframe\n",
    "data = pd.read_csv('Output/scenariodump.csv')\n",
    "\n",
    "# just keep the discount factors\n",
    "data = data.iloc[:, 3:]\n",
    "\n",
    "# convert to zero rates\n",
    "data = -np.log(data).div(curve_times)\n",
    "\n",
    "# take differences\n",
    "data = data.diff().iloc[1:,:]\n",
    "\n",
    "# subtract the means\n",
    "data = data - data.mean()\n",
    "\n",
    "# build the covariance matrix\n",
    "cov = 252.0 / len(data) * np.dot(data.T, data)\n",
    "\n",
    "# get the eigne vectors and values\n",
    "eigenvalues, eigenvectors = np.linalg.eig(cov)"
   ]
  },
  {
   "cell_type": "code",
   "execution_count": 5,
   "id": "f42f2998-3e10-496b-be96-15640f2a9a8c",
   "metadata": {
    "execution": {
     "iopub.execute_input": "2024-06-24T22:27:00.613390Z",
     "iopub.status.busy": "2024-06-24T22:27:00.612352Z",
     "iopub.status.idle": "2024-06-24T22:27:00.624349Z",
     "shell.execute_reply": "2024-06-24T22:27:00.623391Z"
    }
   },
   "outputs": [],
   "source": [
    "inputevs = pd.read_csv('Input/inputeigenvectors.csv')"
   ]
  },
  {
   "cell_type": "code",
   "execution_count": 6,
   "id": "06f48257-2573-494a-a755-1dd7fc5f1f54",
   "metadata": {
    "execution": {
     "iopub.execute_input": "2024-06-24T22:27:00.629352Z",
     "iopub.status.busy": "2024-06-24T22:27:00.628352Z",
     "iopub.status.idle": "2024-06-24T22:27:01.167351Z",
     "shell.execute_reply": "2024-06-24T22:27:01.166351Z"
    }
   },
   "outputs": [
    {
     "data": {
      "image/png": "[encoded data removed]",
      "text/plain": [
       "<Figure size 1000x500 with 2 Axes>"
      ]
     },
     "metadata": {},
     "output_type": "display_data"
    }
   ],
   "source": [
    "fig = plt.figure(figsize=(10, 5))\n",
    "gs = plt.GridSpec(nrows=1, ncols=2)\n",
    "ax1 = fig.add_subplot(gs[0, 0])\n",
    "ax2 = fig.add_subplot(gs[0, 1])\n",
    "ax1.set_ylim([-1, 1])\n",
    "ax2.set_ylim([-1, 1])\n",
    "\n",
    "ax1.plot(inputevs['tenor'], inputevs['eigenvector_1'], label='Input')\n",
    "ax1.plot(curve_times, eigenvectors[:,0], label='Model')\n",
    "ax1.set(xlabel='Time/Years')\n",
    "ax1.set(ylabel='EigenVector')\n",
    "ax1.set_title('First Eigenvector Input vs. Model')\n",
    "ax1.legend()\n",
    "\n",
    "ax2.plot(inputevs['tenor'], inputevs['eigenvector_2'], label='Input')\n",
    "ax2.plot(curve_times, eigenvectors[:,1], label='Model')\n",
    "ax2.set(xlabel='Time/Years')\n",
    "ax2.set(ylabel='EigenVector')\n",
    "ax2.set_title('Second Eigenvector Input vs. Model')\n",
    "ax2.legend()\n",
    "\n",
    "plt.show()"
   ]
  },
  {
   "cell_type": "markdown",
   "id": "9da6010f-5f1a-4444-babf-7c7d6f101ade",
   "metadata": {},
   "source": [
    "Finally we compare the volatilities of the generated principal components:"
   ]
  },
  {
   "cell_type": "code",
   "execution_count": 7,
   "id": "3ac4a4b6-d562-4ce2-bf59-7e9e50112b9c",
   "metadata": {
    "execution": {
     "iopub.execute_input": "2024-06-24T22:27:01.172353Z",
     "iopub.status.busy": "2024-06-24T22:27:01.171350Z",
     "iopub.status.idle": "2024-06-24T22:27:01.183379Z",
     "shell.execute_reply": "2024-06-24T22:27:01.182347Z"
    },
    "tags": []
   },
   "outputs": [
    {
     "data": {
      "text/plain": [
       "array([7.01034497e-03, 2.97437013e-03, 2.41364049e-05, 1.45941592e-05,\n",
       "       9.62024633e-06, 3.29564200e-06, 2.91183715e-07, 9.87151492e-07])"
      ]
     },
     "execution_count": 7,
     "metadata": {},
     "output_type": "execute_result"
    }
   ],
   "source": [
    " np. sqrt(eigenvalues)"
   ]
  }
 ],
 "metadata": {
  "kernelspec": {
   "display_name": "Python 3 (ipykernel)",
   "language": "python",
   "name": "python3"
  },
  "language_info": {
   "codemirror_mode": {
    "name": "ipython",
    "version": 3
   },
   "file_extension": ".py",
   "mimetype": "text/x-python",
   "name": "python",
   "nbconvert_exporter": "python",
   "pygments_lexer": "ipython3",
   "version": "3.8.0"
  }
 },
 "nbformat": 4,
 "nbformat_minor": 5
}
