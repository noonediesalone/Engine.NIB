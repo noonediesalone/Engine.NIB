{
    "cells": [
        {
            "cell_type": "markdown",
            "id": "2aae704e-fe46-4306-bce1-b09c906d4130",
            "metadata": {},
            "source": [
                "# ORE Version 12 - New Analytics\n",
                "\n",
                "This dashboard demonstrates the following new analytics added in ORE version 12:\n",
                "- Scenario\n",
                "- Historical Simulation Var\n",
                "- PNL\n",
                "- PNL Explain"
            ]
        },
        {
            "cell_type": "markdown",
            "id": "2e307944-7bae-434a-ab91-0689db3087d6",
            "metadata": {},
            "source": [
                "## Set up and load utility functions\n",
                "To install ORE run **pip install open-source-risk-engine**\n",
                "\n",
                "Dependencies:\n",
                " * pandas, numpy, lxml\n",
                " * ORE environmental variable"
            ]
        },
        {
            "cell_type": "code",
            "execution_count": null,
            "id": "af75e872-4648-4083-b8e8-80936d88e30b",
            "metadata": {},
            "outputs": [],
            "source": [
                "import ORE as ore\n",
                "\n",
                "# utility script available\n",
                "import sys\n",
                "sys.path.append('..')\n",
                "import utilities\n",
                "import numpy as np\n",
                "import os\n",
                "import pandas as pd\n",
                "\n",
                "from lxml import etree\n",
                "def decodeXML(filename):\n",
                "    return etree.tostring(etree.parse(filename)).decode('UTF-8')\n"
            ]
        },
        {
            "cell_type": "markdown",
            "id": "4e5e445a-a600-4e8b-a0ba-48d743a287af",
            "metadata": {},
            "source": [
                "## Scenario\n",
                "\n",
                " - Example 57\n",
                " - Returns the base scenario from a Simulation Market for a given date. \n",
                " - The scenario is a representation of the state of the market.\n",
                " - It is a set of key/value pairs, keyed on RiskFactor:\n",
                "     *  DiscountCurve/EUR/0: 1.00013288\n",
                "     *  DiscountCurve/EUR/1: 1.00028576\n",
                "     *  FXSpot/USDEUR/0: 0.8929\n",
                " - Requires a Simulation Parameters configuration which specifies the risk factors.\n",
                " - Scenario generation needed for Historical Simulation VaR"
            ]
        },
        {
            "cell_type": "markdown",
            "id": "b127c3ba-4638-4016-af49-2475c05ec4c3",
            "metadata": {},
            "source": [
                "**ORE XML for Scenario Analytic**"
            ]
        },
        {
            "cell_type": "code",
            "execution_count": null,
            "id": "0e23039f-b193-4f7e-a98f-1eb5823ae0d5",
            "metadata": {},
            "outputs": [],
            "source": [
                "oreXml = decodeXML(\"Input/Example_57/ore.xml\")\n",
                "print(oreXml)"
            ]
        },
        {
            "cell_type": "markdown",
            "id": "c8c9207e-3279-4a37-bcea-1c9a0e636713",
            "metadata": {},
            "source": [
                "\\\n",
                "**Simulation XML for Scenario Analytic**"
            ]
        },
        {
            "cell_type": "code",
            "execution_count": null,
            "id": "efaaa1bb-02f3-45e4-8358-ca52f45417ea",
            "metadata": {},
            "outputs": [],
            "source": [
                "simMarketParamsXml = decodeXML(\"Input/Example_57/simulation.xml\")\n",
                "print(simMarketParamsXml)"
            ]
        },
        {
            "cell_type": "markdown",
            "id": "d67fc0fa-fd99-4d4d-a2b1-c7700f5df03b",
            "metadata": {},
            "source": [
                "\\\n",
                "**Setup the Scenario Analytic**"
            ]
        },
        {
            "cell_type": "code",
            "execution_count": null,
            "id": "8ece08d4-6ab8-431a-9c52-fcf363ba75b1",
            "metadata": {},
            "outputs": [],
            "source": [
                "inputs = ore.InputParameters()\n",
                "\n",
                "# set asof date\n",
                "inputs.setAsOfDate(\"2016-02-05\")\n",
                "inputs.setResultsPath(\".\")\n",
                "inputs.setAllFixings(True)\n",
                "inputs.setEntireMarket(True)\n",
                "\n",
                "# Read in the XML configurations\n",
                "curveConfigsXml = decodeXML(\"../../../Input/curveconfig.xml\")\n",
                "conventionsXml = decodeXML(\"../../../Input/conventions.xml\")\n",
                "pricingEngineXml = decodeXML(\"../../../Input/pricingengine.xml\")\n",
                "todaysMarketXml = decodeXML(\"../../../Input/todaysmarket.xml\")\n",
                "\n",
                "# set configurations in InputParameters\n",
                "inputs.setCurveConfigs(curveConfigsXml)\n",
                "inputs.setConventions(conventionsXml)\n",
                "inputs.setPricingEngine(pricingEngineXml)\n",
                "inputs.setTodaysMarketParams(todaysMarketXml)\n",
                "\n",
                "with open(\"../../../Input/market_20160205_flat.txt\") as f:\n",
                "    market_data = ore.StrVector(f.read().splitlines())\n",
                "    \n",
                "with open(\"../../../Input/fixings_20160205.txt\") as f:\n",
                "    fixings_data = ore.StrVector(f.read().splitlines())"
            ]
        },
        {
            "cell_type": "markdown",
            "id": "aebcd8dc-4446-41f4-96c2-5599ef7de8e1",
            "metadata": {},
            "source": [
                "**Set Scenario specific parameters**"
            ]
        },
        {
            "cell_type": "code",
            "execution_count": null,
            "id": "073ab2a0-cdef-4175-bb3c-d8a68c91c079",
            "metadata": {},
            "outputs": [],
            "source": [
                "inputs.insertAnalytic(\"SCENARIO\")\n",
                "inputs.setScenarioSimMarketParams(decodeXML(\"Input/Example_57/simulation.xml\"))"
            ]
        },
        {
            "cell_type": "markdown",
            "id": "8eafe1ae-820e-4209-bb4b-eb18f6532a23",
            "metadata": {},
            "source": [
                "**Run the Scenario Analytic**"
            ]
        },
        {
            "cell_type": "code",
            "execution_count": null,
            "id": "fe134593-969f-4b66-afed-cafab97698b3",
            "metadata": {},
            "outputs": [],
            "source": [
                "ore_app = ore.OREApp(inputs, \"log.txt\", 63)\n",
                "ore_app.run(market_data, fixings_data)"
            ]
        },
        {
            "cell_type": "code",
            "execution_count": null,
            "id": "48fcb9ff-9ed5-4ba7-95c0-bd48ca776c03",
            "metadata": {},
            "outputs": [],
            "source": [
                "ore_app.getReportNames()"
            ]
        },
        {
            "cell_type": "code",
            "execution_count": null,
            "id": "8e418498-3139-444d-b60c-17cb67e3f773",
            "metadata": {},
            "outputs": [],
            "source": [
                "r = ore_app.getReport('scenario')\n",
                "utilities.format_report(r)"
            ]
        },
        {
            "cell_type": "markdown",
            "id": "2c858acd-5cb1-42d4-82a1-45dfbae2e4ec",
            "metadata": {},
            "source": [
                "\n",
                "## Historical Simulation VaR\n",
                "\n",
                " - Example 58\n",
                " - Generates a historical simulation VaR calculation given a portfolio and a set of historical market scenarios covering\n",
                "a historical observation period.\n",
                " - Load the raw historical market scenarios and use these to generate \"shift\" scenarios to reflect market moves for the historical period\n",
                " - Apply each shift scenario to todays simulated market sequentially, and revalue the portfolio to generate a set of PNLs\n",
                " - Calculate VaR at the quantiles provided\n"
            ]
        },
        {
            "cell_type": "markdown",
            "id": "b059e29d-0af1-4254-9846-191ffc024dde",
            "metadata": {},
            "source": [
                "\\\n",
                "**Historical Simulation ORE XML**"
            ]
        },
        {
            "cell_type": "code",
            "execution_count": null,
            "id": "af73959a-b350-4c52-9809-7a5c116505fe",
            "metadata": {},
            "outputs": [],
            "source": [
                "oreXml = decodeXML(\"Input/Example_58/ore.xml\")\n",
                "print(oreXml)"
            ]
        },
        {
            "cell_type": "markdown",
            "id": "9c85c42a-5cec-4017-9578-002d9b603407",
            "metadata": {},
            "source": [
                "\\\n",
                "**Historical Scenarios**"
            ]
        },
        {
            "cell_type": "code",
            "execution_count": null,
            "id": "2133ceb6-1fec-42fc-96b3-ad6862a6d6c7",
            "metadata": {
                "scrolled": true
            },
            "outputs": [],
            "source": [
                "pd.read_csv('Input/Example_58/scenarios.csv')"
            ]
        },
        {
            "cell_type": "markdown",
            "id": "91c2a146-2c04-4947-bee6-47b14daf13a5",
            "metadata": {},
            "source": [
                "\\\n",
                "**Set up Historical Simulation VAR calculation**"
            ]
        },
        {
            "cell_type": "code",
            "execution_count": null,
            "id": "d7094f15-6748-4d2e-b441-ae134d364ee0",
            "metadata": {},
            "outputs": [],
            "source": [
                "inputs = ore.InputParameters()\n",
                "\n",
                "# set asof date\n",
                "inputs.setAsOfDate(\"2019-12-30\")\n",
                "inputs.setResultsPath(\".\")\n",
                "inputs.setAllFixings(True)\n",
                "inputs.setEntireMarket(True)\n",
                "inputs.setBaseCurrency(\"EUR\")\n",
                "\n",
                "curveConfigsXml = decodeXML(\"Input/Example_58/curveconfig.xml\")\n",
                "conventionsXml = decodeXML(\"Input/Example_58/conventions.xml\")\n",
                "pricingEngineXml = decodeXML(\"Input/Example_58/pricingengine.xml\")\n",
                "todaysMarketXml = decodeXML(\"Input/Example_58/todaysmarket.xml\")\n",
                "portfolioXml = decodeXML(\"Input/Example_58/portfolio.xml\")\n",
                "\n",
                "# set configurations in InputParameters\n",
                "inputs.setCurveConfigs(curveConfigsXml)\n",
                "inputs.setConventions(conventionsXml)\n",
                "inputs.setPricingEngine(pricingEngineXml)\n",
                "inputs.setTodaysMarketParams(todaysMarketXml)\n",
                "inputs.setPortfolio(portfolioXml)\n",
                "\n",
                "with open(\"Input/Example_58/market.txt\") as f:\n",
                "    market_data = ore.StrVector(f.read().splitlines())\n",
                "    \n",
                "with open(\"Input/Example_58/fixings.txt\") as f:\n",
                "    fixings_data = ore.StrVector(f.read().splitlines())"
            ]
        },
        {
            "cell_type": "markdown",
            "id": "30b335c8-757b-444c-83f1-4b7317dc254a",
            "metadata": {},
            "source": [
                "\\\n",
                "**Historical Simulation VaR specific parameters**"
            ]
        },
        {
            "cell_type": "code",
            "execution_count": null,
            "id": "23d76872-914a-4005-a829-d9187ac9c781",
            "metadata": {},
            "outputs": [],
            "source": [
                "inputs.insertAnalytic(\"HISTSIM_VAR\")\n",
                "inputs.setScenarioReader(\"Input/Example_58/scenarios.csv\")\n",
                "inputs.setHistVarSimMarketParamsFromFile(\"Input/Example_58/simulation.xml\")\n",
                "inputs.setBenchmarkVarPeriod(\"2017-01-17,2019-12-30\")\n",
                "inputs.setMporDays(10)\n",
                "inputs.setMporCalendar(\"USD\")\n",
                "inputs.setMporOverlappingPeriods(True)\n",
                "inputs.setVarQuantiles(\"0.01,0.05,0.95,0.99\")"
            ]
        },
        {
            "cell_type": "markdown",
            "id": "b10eb0bf-61e6-4c80-a331-b6599846db6d",
            "metadata": {},
            "source": [
                "**Run analytic**"
            ]
        },
        {
            "cell_type": "code",
            "execution_count": null,
            "id": "bf17f74c-df76-41ee-8abb-0839f056c5d1",
            "metadata": {},
            "outputs": [],
            "source": [
                "ore_app = ore.OREApp(inputs, \"log.txt\", 32)\n",
                "ore_app.run(market_data, fixings_data)"
            ]
        },
        {
            "cell_type": "code",
            "execution_count": null,
            "id": "be78fe8f-e2a1-4b00-bd58-00de5c1d0ef2",
            "metadata": {},
            "outputs": [],
            "source": [
                "ore_app.getReportNames()"
            ]
        },
        {
            "cell_type": "markdown",
            "id": "4a45c994-ac40-47a1-b667-c3d4b92b9c24",
            "metadata": {},
            "source": [
                "\\\n",
                "**VaR Report**"
            ]
        },
        {
            "cell_type": "code",
            "execution_count": null,
            "id": "fd756e0f-6cd8-420a-acaa-2703c1858b1e",
            "metadata": {},
            "outputs": [],
            "source": [
                "r = ore_app.getReport('var')\n",
                "utilities.format_report(r)\n"
            ]
        },
        {
            "cell_type": "markdown",
            "id": "65067495-6723-4e0a-b021-a289873a9422",
            "metadata": {},
            "source": [
                "\n",
                "\n",
                "## PNL\n",
                "\n",
                "- Example 62\n",
                "- Calculate the PNL between 2 dates\n",
                "- Generate a SimMarket and Scenario for each date, and use them to generate 4 flavours of NPV\n",
                "    * NPV(t0)\n",
                "    * NPV(asof=t0; mkt=t1) - Shift the t0 SimMarket to t1's market    * \n",
                "    * NPV(t1)\n",
                "    * NPV(asof=t1; mkt=t0) - Shift the t1 SimMarket to t0's market\n",
                "- Calculate PeriodCashFlow - Aggregate of trade flows in the period\n",
                "- We use the NPV's to calculate:\n",
                "    * Theta: NPV(asof=t1; mkt=t0) - NPV(t0) + PeriodCashFLow\n",
                "    * HypotheticalCleanPnL: NPV(asof=t0; mkt=t1) - NPV(t0)\n",
                "    * DirtyPnL: NPV(t1) - NPV(t0)\n",
                "    * CleanPnL: NPV(t1) - NPV(t0) + PeriodCashFlow "
            ]
        },
        {
            "cell_type": "markdown",
            "id": "a6380846-0047-4d63-95ee-52955694a6b0",
            "metadata": {},
            "source": [
                "\\\n",
                "**PNL ORE XML**"
            ]
        },
        {
            "cell_type": "code",
            "execution_count": null,
            "id": "3743e153-b96c-400b-965c-f8baa1c319fc",
            "metadata": {},
            "outputs": [],
            "source": [
                "oreXml = decodeXML(\"Input/Example_62/ore_pnl.xml\")\n",
                "print(oreXml)"
            ]
        },
        {
            "cell_type": "markdown",
            "id": "117a91dc-6517-441a-a1ea-7e73801d7b79",
            "metadata": {},
            "source": [
                "\\\n",
                "**Set up PNL Analytic**"
            ]
        },
        {
            "cell_type": "code",
            "execution_count": null,
            "id": "c1713cb0-54d2-4cbb-aa69-e539edb32ef7",
            "metadata": {},
            "outputs": [],
            "source": [
                "inputs = ore.InputParameters()\n",
                "\n",
                "# set asof date\n",
                "inputs.setAsOfDate(\"2023-01-31\")\n",
                "inputs.setResultsPath(\".\")\n",
                "inputs.setAllFixings(True)\n",
                "inputs.setEntireMarket(True)\n",
                "inputs.setBaseCurrency(\"USD\")\n",
                "\n",
                "curveConfigsXml = decodeXML(\"Input/Example_62/curveconfig.xml\")\n",
                "conventionsXml = decodeXML(\"Input/Example_62/conventions.xml\")\n",
                "pricingEngineXml = decodeXML(\"Input/Example_62/pricingengine.xml\")\n",
                "todaysMarketXml = decodeXML(\"Input/Example_62/todaysmarket.xml\")\n",
                "portfolioXml = decodeXML(\"Input/Example_62/portfolio.xml\")\n",
                "\n",
                "# set configurations in InputParameters\n",
                "inputs.setCurveConfigs(curveConfigsXml)\n",
                "inputs.setConventions(conventionsXml)\n",
                "inputs.setPricingEngine(pricingEngineXml)\n",
                "inputs.setTodaysMarketParams(todaysMarketXml)\n",
                "inputs.setPortfolio(portfolioXml)\n",
                "\n",
                "with open(\"Input/Example_62/market.txt\") as f:\n",
                "    market_data = ore.StrVector(f.read().splitlines())\n",
                "    \n",
                "with open(\"Input/Example_62/fixings.txt\") as f:\n",
                "    fixings_data = ore.StrVector(f.read().splitlines())"
            ]
        },
        {
            "cell_type": "markdown",
            "id": "cfe1d5a7-2f13-46a2-bc99-9d1734ca09a7",
            "metadata": {},
            "source": [
                "\\\n",
                "**Set PNL specific parameters**"
            ]
        },
        {
            "cell_type": "code",
            "execution_count": null,
            "id": "d89e56a9-18fe-486b-8422-85c7974dccf6",
            "metadata": {},
            "outputs": [],
            "source": [
                "inputs.insertAnalytic(\"PNL\")\n",
                "inputs.setScenarioSimMarketParamsFromFile(\"Input/Example_62/simulation.xml\")\n",
                "inputs.setMporDays(10)\n",
                "inputs.setMporCalendar(\"USD\")"
            ]
        },
        {
            "cell_type": "markdown",
            "id": "08c1ce54-30ee-4e5a-accd-04bc89de8a5c",
            "metadata": {},
            "source": [
                "\\\n",
                "**Run PNL Analytic**"
            ]
        },
        {
            "cell_type": "code",
            "execution_count": null,
            "id": "9a842ae0-0129-4348-8b4c-08657b9c785a",
            "metadata": {},
            "outputs": [],
            "source": [
                "ore_app = ore.OREApp(inputs, \"log.txt\", 125, True)\n",
                "ore_app.run(market_data, fixings_data)"
            ]
        },
        {
            "cell_type": "code",
            "execution_count": null,
            "id": "b1399944-2748-42f7-8bec-aee0fa9811d9",
            "metadata": {},
            "outputs": [],
            "source": [
                "ore_app.getReportNames()"
            ]
        },
        {
            "cell_type": "code",
            "execution_count": null,
            "id": "569045f4-0cb9-4dbd-b4e8-a8a47166361e",
            "metadata": {
                "scrolled": true
            },
            "outputs": [],
            "source": [
                "r = ore_app.getReport('pnl')\n",
                "utilities.format_report(r)"
            ]
        },
        {
            "cell_type": "markdown",
            "id": "0cfdc691-bf78-43f0-9b90-b03c0ab9732a",
            "metadata": {},
            "source": [
                "\n",
                "## PNL Explain\n",
                "\n",
                " - Example 62 \n",
                " - Extends the PNL analytic to \"explain\" the PNL in terms of IR/FX/EQ etc delta/gamma/vega buckets.\n",
                " - Run a sensitivity analysis to generate sensitivities for each trade\n",
                " - Bucket each risk factor based on risk type and risk class\n",
                " - RiskTypes:\n",
                "\n",
                "<img src=\"risktype.jpg\" width=500 height=500 />\n",
                "\n",
                " - RiskClasses:\n",
                "   \n",
                "<img src=\"riskclass.jpg\" width=700 height=600 />\n",
                "\n",
                " - Create a set of filters containing risk type / risk class pairs, from every combination.\n",
                " - Consecutively loop through each risk filter and calculate the PNL for each bucket by multiplying the sensitivities by the scenario moves for all risk factors within that filter\n"
            ]
        },
        {
            "cell_type": "markdown",
            "id": "92c87779-a1e8-4bce-82d3-2067d03eddb7",
            "metadata": {},
            "source": [
                "**PNL Explain ORE XML**"
            ]
        },
        {
            "cell_type": "code",
            "execution_count": null,
            "id": "e990b00c-f2ff-4c47-9163-c1c9a092ff2d",
            "metadata": {},
            "outputs": [],
            "source": [
                "oreXml = decodeXML(\"Input/Example_62/ore_explain.xml\")\n",
                "print(oreXml)"
            ]
        },
        {
            "cell_type": "markdown",
            "id": "67482b6f-8a7e-47a1-8ae3-4d3fab929abb",
            "metadata": {},
            "source": [
                "\\\n",
                "**Sensitivity Config**"
            ]
        },
        {
            "cell_type": "code",
            "execution_count": null,
            "id": "b41787a6-715e-4030-b7e9-5cf36d38898f",
            "metadata": {},
            "outputs": [],
            "source": [
                "sensitivityXml = decodeXML(\"Input/Example_62/sensitivity.xml\")\n",
                "print(sensitivityXml)"
            ]
        },
        {
            "cell_type": "markdown",
            "id": "3ed66641-e729-4f95-85ad-0cf33cde50e2",
            "metadata": {},
            "source": [
                "\\\n",
                "**Set up the PNL Explain calculation**"
            ]
        },
        {
            "cell_type": "code",
            "execution_count": null,
            "id": "55e2b78f-3f22-4464-bf8d-9b1a0aad58a5",
            "metadata": {},
            "outputs": [],
            "source": [
                "inputs = ore.InputParameters()\n",
                "\n",
                "# set asof date\n",
                "inputs.setAsOfDate(\"2023-01-31\")\n",
                "inputs.setResultsPath(\".\")\n",
                "inputs.setAllFixings(True)\n",
                "inputs.setEntireMarket(True)\n",
                "inputs.setBaseCurrency(\"USD\")\n",
                "\n",
                "curveConfigsXml = decodeXML(\"Input/Example_62/curveconfig.xml\")\n",
                "conventionsXml = decodeXML(\"Input/Example_62/conventions.xml\")\n",
                "pricingEngineXml = decodeXML(\"Input/Example_62/pricingengine.xml\")\n",
                "todaysMarketXml = decodeXML(\"Input/Example_62/todaysmarket.xml\")\n",
                "portfolioXml = decodeXML(\"Input/Example_62/portfolio.xml\")\n",
                "\n",
                "# set configurations in InputParameters\n",
                "inputs.setCurveConfigs(curveConfigsXml)\n",
                "inputs.setConventions(conventionsXml)\n",
                "inputs.setPricingEngine(pricingEngineXml)\n",
                "inputs.setTodaysMarketParams(todaysMarketXml)\n",
                "inputs.setPortfolio(portfolioXml)\n",
                "\n",
                "with open(\"Input/Example_62/market.txt\") as f:\n",
                "    market_data = ore.StrVector(f.read().splitlines())\n",
                "    \n",
                "with open(\"Input/Example_62/fixings.txt\") as f:\n",
                "    fixings_data = ore.StrVector(f.read().splitlines())"
            ]
        },
        {
            "cell_type": "markdown",
            "id": "df1ec154-e6e5-4979-a947-034c294e5ef7",
            "metadata": {},
            "source": [
                "\\\n",
                "**Set PNL Explain specific parameters**"
            ]
        },
        {
            "cell_type": "code",
            "execution_count": null,
            "id": "54a68125-fa92-4eda-a90f-d682a1c99b0a",
            "metadata": {},
            "outputs": [],
            "source": [
                "inputs.insertAnalytic(\"PNL_EXPLAIN\")\n",
                "inputs.setScenarioSimMarketParamsFromFile(\"Input/Example_62/simulation.xml\")\n",
                "inputs.setMporDate(ore.Date(14,2,2023))\n",
                "# for sensitivity analysis\n",
                "simulationXml = decodeXML(\"Input/Example_62/simulation.xml\")\n",
                "inputs.setSensiSimMarketParams(simulationXml)\n",
                "inputs.setSensiScenarioData(sensitivityXml)"
            ]
        },
        {
            "cell_type": "markdown",
            "id": "87371767-1044-4219-b91a-778596034b19",
            "metadata": {},
            "source": [
                "\\\n",
                "**Run PNL Explain Analytic**"
            ]
        },
        {
            "cell_type": "code",
            "execution_count": null,
            "id": "1812a4a2-0f7d-478a-a579-f08273924b26",
            "metadata": {},
            "outputs": [],
            "source": [
                "ore_app = ore.OREApp(inputs, \"log.txt\", 125, True)\n",
                "ore_app.run(market_data, fixings_data)"
            ]
        },
        {
            "cell_type": "code",
            "execution_count": null,
            "id": "f9803f93-c37b-4b3f-a7de-4d8c9126ce63",
            "metadata": {},
            "outputs": [],
            "source": [
                "ore_app.getReportNames()"
            ]
        },
        {
            "cell_type": "code",
            "execution_count": null,
            "id": "d7140f2f-654c-4678-bd94-de0adefd9593",
            "metadata": {},
            "outputs": [],
            "source": [
                "r = ore_app.getReport('pnl_explain')\n",
                "utilities.format_report(r)"
            ]
        },
        {
            "cell_type": "code",
            "execution_count": null,
            "id": "b9aea539-d712-4426-97f3-a4823ead522a",
            "metadata": {
                "scrolled": true
            },
            "outputs": [],
            "source": [
                "utilities.writeReport(r, [0,12,16,17,18,19,20,21])"
            ]
        },
        {
            "cell_type": "markdown",
            "id": "583cc364-1330-4705-9eef-1eb1120de87b",
            "metadata": {},
            "source": [
                "\n",
                "\n",
                "## Verify PNL Explain Delta/Gamma Calculation\n",
                "\n",
                "**Sensitivity and Scenario Output**"
            ]
        },
        {
            "cell_type": "code",
            "execution_count": null,
            "id": "54fa881c-934e-4e5c-8c76-966fa0c96746",
            "metadata": {},
            "outputs": [],
            "source": [
                "sensitivity = ore_app.getReport('sensitivity')\n",
                "sensis = utilities.format_report(sensitivity)\n",
                "sensis['Factor_1'] = sensis['Factor_1'].str[:-3]\n",
                "sensis"
            ]
        },
        {
            "cell_type": "code",
            "execution_count": null,
            "id": "96c06875-6718-4fa8-89e1-2bbf1daf699f",
            "metadata": {},
            "outputs": [],
            "source": [
    "scenarios = ore_app.getReport('zero_scenarios')\n",
    "utilities.writeReport(scenarios, [0,19,20])"
            ]
        },
        {
            "cell_type": "code",
            "execution_count": null,
            "id": "08e2f0aa-81ca-4115-944a-6cc73927fecc",
            "metadata": {},
            "outputs": [],
            "source": [
    "t = utilities.format_report(scenarios)[['DiscountCurve/USD/4','DiscountCurve/USD/5']].T\n",
    "t.columns = ['Scenario_t0','Scenario_t1']\n",
                "df = sensis[sensis['TradeId']=='SwapLeg'][['TradeId','Factor_1','ShiftSize_1','Delta','Gamma']]\n",
                "df['Time'] = df['Factor_1'].map({'DiscountCurve/USD/4': 1, 'DiscountCurve/USD/5': 2})\n",
    "df = df.join(t, on='Factor_1', how='left')\n",
                "df['ScenarioShift'] = np.log(df['Scenario_t1'] / df['Scenario_t0']) / (df['Time'] * df['ShiftSize_1'])\n",
                "df['ExplainedDelta'] = df['Delta'] * df['ScenarioShift']\n",
                "df['ExplainedGamma'] = 0.5 * df['Gamma'] * df['ScenarioShift'] * df['ScenarioShift']\n",
                "df"
            ]
        },
        {
            "cell_type": "code",
            "execution_count": null,
            "id": "dd2afb95-8b54-4206-8a3b-3b3dfe7e2bb3",
            "metadata": {},
            "outputs": [],
            "source": [
                "df.groupby(['TradeId'])[['ExplainedDelta', 'ExplainedGamma']].sum()"
            ]
        }
    ],
    "metadata": {
        "kernelspec": {
            "display_name": "Python 3 (ipykernel)",
            "language": "python",
            "name": "python3"
        },
        "language_info": {
            "codemirror_mode": {
                "name": "ipython",
                "version": 3
            },
            "file_extension": ".py",
            "mimetype": "text/x-python",
            "name": "python",
            "nbconvert_exporter": "python",
            "pygments_lexer": "ipython3",
            "version": "3.8.0"
        }
    },
    "nbformat": 4,
    "nbformat_minor": 5
}
